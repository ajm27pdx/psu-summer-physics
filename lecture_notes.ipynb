{
 "cells": [
  {
   "cell_type": "markdown",
   "metadata": {},
   "source": [
    "### Test"
   ]
  },
  {
   "cell_type": "code",
   "execution_count": 29,
   "metadata": {},
   "outputs": [
    {
     "name": "stdin",
     "output_type": "stream",
     "text": [
      " 5\n"
     ]
    },
    {
     "name": "stdout",
     "output_type": "stream",
     "text": [
      "78.53981633974483\n"
     ]
    }
   ],
   "source": [
    "import math\n",
    "\n",
    "r = int(input())\n",
    "m = 8\n",
    "v = 8\n",
    "\n",
    "print(math.pi * r**2)"
   ]
  },
  {
   "cell_type": "code",
   "execution_count": 36,
   "metadata": {},
   "outputs": [
    {
     "data": {
      "application/vnd.jupyter.widget-view+json": {
       "model_id": "441b2682d43b40f1a3aef2cf22a6ecbe",
       "version_major": 2,
       "version_minor": 0
      },
      "text/plain": [
       "interactive(children=(IntSlider(value=5, description='len', max=10), IntSlider(value=87, description='mass'), …"
      ]
     },
     "metadata": {},
     "output_type": "display_data"
    }
   ],
   "source": [
    "from __future__ import print_function\n",
    "from ipywidgets import interact, interactive, fixed, interact_manual\n",
    "import ipywidgets as widgets\n",
    "\n",
    "def wave_motion(len, mass, time):\n",
    "    mass = mass / 1000\n",
    "    if(time == 0):\n",
    "        time = 1\n",
    "    time = time / 1000\n",
    "    return mass * len / (time**2)\n",
    "\n",
    "mass_slider=widgets.IntSlider(min=0, max=100, step=1, value=87)\n",
    "time_slider=widgets.IntSlider(min=0, max=100, step=1, value=94)\n",
    "len_slider=widgets.IntSlider(min=0, max=10, step=1, value=5)\n",
    "interact(wave_motion, mass=mass_slider, time=time_slider, len=len_slider);\n"
   ]
  },
  {
   "cell_type": "code",
   "execution_count": 26,
   "metadata": {},
   "outputs": [
    {
     "name": "stdout",
     "output_type": "stream",
     "text": [
      "Enough!\n"
     ]
    }
   ],
   "source": [
    "rate = 13e12\n",
    "time = 3 * 24 + 5\n",
    "total = rate * time\n",
    "goal = 1e15\n",
    "if(goal - total < 0):\n",
    " print(\"Enough!\")\n",
    "else:\n",
    " print(\"Not enough!\")"
   ]
  },
  {
   "cell_type": "code",
   "execution_count": 14,
   "metadata": {},
   "outputs": [
    {
     "name": "stdout",
     "output_type": "stream",
     "text": [
      "770000000.0\n"
     ]
    }
   ],
   "source": [
    "print(total)"
   ]
  },
  {
   "cell_type": "code",
   "execution_count": null,
   "metadata": {},
   "outputs": [],
   "source": []
  }
 ],
 "metadata": {
  "kernelspec": {
   "display_name": "Python 3",
   "language": "python",
   "name": "python3"
  },
  "language_info": {
   "codemirror_mode": {
    "name": "ipython",
    "version": 3
   },
   "file_extension": ".py",
   "mimetype": "text/x-python",
   "name": "python",
   "nbconvert_exporter": "python",
   "pygments_lexer": "ipython3",
   "version": "3.8.4"
  }
 },
 "nbformat": 4,
 "nbformat_minor": 4
}
