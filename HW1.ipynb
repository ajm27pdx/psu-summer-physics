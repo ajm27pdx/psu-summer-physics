{
 "cells": [
  {
   "cell_type": "markdown",
   "metadata": {},
   "source": [
    "# HW1\n",
    "Adam Martinez\n",
    "PH213 - SU2020\n",
    "\n",
    "## Ch 14"
   ]
  },
  {
   "cell_type": "markdown",
   "metadata": {},
   "source": [
    "1. T/F  \n",
    "a) False  \n",
    "b) True   \n",
    "c) True  \n",
    "2. If the Amplitude (A) is tripled, the the energy is increased by $\\fbox{a factor of 9}$:\n",
    "$$\n",
    "E = \\frac{1}{2}kA^2 \\\\\n",
    "A^2 = (3\\alpha)^2 = 9\\alpha^2\n",
    "$$\n",
    "3. Let $A= 4$cm and $x=2$cm, solve for $\\tfrac{U}{E}$:\n",
    "$$\n",
    "U = \\frac{1}{2}kx^2 \\\\\n",
    "E = \\frac{1}{2}kA^2 \\\\\n",
    "\\frac{U}{E} = \\frac{1/2kx^2}{1/2kA^2} = \\frac{x^2}{A^2}\\\\\n",
    "\\frac{U}{E} = \\frac{x^2}{A^2} = \\frac{(2cm)^2}{(4cm)^2} = \\fbox{$\\frac{1}{4}$}\n",
    "$$\n",
    "4. Let $A = 10$cm:  \n",
    "$$\n",
    "U = \\frac{1}{2}E \\\\\n",
    "\\frac{1}{2}kx^2 = \\frac{1}{2}\\left( \\frac{1}{2}kA^2 \\right) \\\\\n",
    "x = \\frac{A}{\\sqrt{2}} \\\\\n",
    "x = \\frac{A}{\\sqrt{2}} = \\frac{10}{\\sqrt{2}} = \\fbox{$7.07\\text{cm}$}\n",
    "$$"
   ]
  },
  {
   "cell_type": "markdown",
   "metadata": {},
   "source": [
    "29. Let $x = (7.0\\text{cm}\\cos(6\\pi t)$, find the:  \n",
    "    a) Frequency:\n",
    "    $$\n",
    "    f = \\frac{\\omega}{2\\pi} = \\frac{6\\pi s^{-1}}{2\\pi} = \\fbox{$3$Hz}\n",
    "    $$\n",
    "    b) Period:\n",
    "    $$\n",
    "    T = \\frac{1}{f} = \\frac{1}{3\\text{Hz}} = \\fbox{0.33s}\n",
    "    $$\n",
    "    c) Amplitude:\n",
    "    $$ \\fbox{$A = 7.0$cm} $$\n",
    "    d) At what value of $t$ does x = 0?\n",
    "    $$\n",
    "    \\cos(\\omega t) = 0 \\Rightarrow \\omega t = \\frac{\\pi}{2} \\Rightarrow t = \\frac{\\pi}{2\\omega} \\\\\n",
    "    t = \\frac{\\pi}{2(6\\pi)} = \\fbox{0.083s}\n",
    "    $$"
   ]
  },
  {
   "cell_type": "markdown",
   "metadata": {},
   "source": [
    "30. Find $\\delta$ at $t=0$ if:  \n",
    "    a) $x=0$:\n",
    "    $$\n",
    "    0 = A\\cos(\\omega(0) + \\delta) \\\\\n",
    "    0 = \\cos(\\delta) \\\\\n",
    "    \\delta = \\cos^{-1}(0) = \\fbox{$\\frac{\\pi}{2}$}\n",
    "    $$\n",
    "    b) $x = -A$:  \n",
    "    $$\n",
    "    -A = A\\cos(\\omega(0) + \\delta) \\\\\n",
    "    -1 = \\cos(\\delta) \\\\ \n",
    "    \\delta = \\cos^{-1}(-1) = \\fbox{$ \\pi $}\n",
    "    $$\n",
    "    c) $x = A$:\n",
    "    $$\n",
    "    A = A\\cos(\\omega (0) + \\delta) \\\\ \n",
    "    1 = cos(\\delta) \\\\\n",
    "    \\delta = \\cos^{-1}(1) = \\fbox{0}\n",
    "    $$\n",
    "    d) $x=A/s$:\n",
    "    $$\n",
    "    \\frac{A}{2} = A\\cos(\\omega (0) + \\delta) \\\\\n",
    "    \\frac{1}{2} = \\cos(\\delta) \\\\\n",
    "    \\delta = \\cos^{-1}\\left(\\frac{1}{2}\\right) = \\fbox{$\\frac{\\pi}{3}$}\n",
    "    $$"
   ]
  },
  {
   "cell_type": "markdown",
   "metadata": {},
   "source": [
    "31. Let $A=25$cm and $T=1.5$s, find:  \n",
    "    a) Position as a function of t:\n",
    "    $$\n",
    "    \\omega = \\frac{2\\pi}{T} = \\frac{4\\pi}{3\\text{s}} \\\\\n",
    "    x(t) = A\\cos\\left(\\omega t\\right) \\\\\n",
    "    x(t) = \\fbox{$ (0.25\\text{m})\\cos\\left(\\frac{4\\pi}{3\\text{s}}t\\right) $} \n",
    "    $$\n",
    "    b) Velocity as a function of t:\n",
    "    $$\n",
    "    v_x = \\frac{dx}{dt} = -A \\omega \\sin(\\omega t + \\delta) \\\\\n",
    "    v_x = -(0.25\\text{m})\\left(\\frac{4\\pi}{3\\text{s}}\\right)\\sin\\left(\\frac{4\\pi}{3\\text{s}}t\\right) = \\fbox{$ -\\frac{\\pi}{3} \\sin\\left(\\frac{4\\pi}{3\\text{s}}t\\right) m/s$}\n",
    "    $$\n",
    "    c) Acceleration as a function of t:\n",
    "    $$\n",
    "    a_x = \\frac{dv}{dt} = -A\\omega^2\\sin(\\omega t + \\delta) \\\\\n",
    "    a_x = -(0.25\\text{m})\\left(\\frac{4\\pi}{3\\text{s}}\\right)^2\\sin\\left(\\frac{4\\pi}{3\\text{s}}t\\right) = \\fbox{$ -\\frac{4\\pi}{9} \\sin\\left(\\frac{4\\pi}{3\\text{s}}t\\right) m/s $}\n",
    "    $$"
   ]
  },
  {
   "cell_type": "markdown",
   "metadata": {},
   "source": [
    "32. For the particle in #29, find:  \n",
    "    a) Maximum Speed:\n",
    "    $$\n",
    "    v_{max} = A\\omega = (0.07\\text{m})(6\\pi \\text{s}^1) = \\fbox{$0.42\\pi$m/s} \\approx 1.3 \\text{m/s}\n",
    "    $$\n",
    "    b) Maximum Acceleration:\n",
    "    $$\n",
    "    a_{max} = A\\omega^2 = (0.07\\text{m})(6\\pi \\text{s}^1)^2 = \\fbox{$2.5\\pi^2$m/s$^2$} \\approx 24.8 \\text{m/s}^2\n",
    "    $$\n",
    "    c) $t$ at $x=0$:\n",
    "    $$\n",
    "    x = 0 = A\\cos(\\omega t) \\text{  when  } \\omega t = \\frac{\\pi}{2} \\text{  and  } \\frac{3\\pi}{2}\\\\\n",
    "    \\text{at } \\omega t = \\frac{\\pi}{2}, v = -A\\omega \\sin\\left(\\frac{\\pi}{2}\\right) = -A\\omega \\\\\n",
    "    \\text{at } \\omega t = \\frac{3\\pi}{2}, v = -A\\omega \\sin\\left(\\frac{3\\pi}{2}\\right) = A\\omega \\\\\n",
    "    \\text{Particle is moving right at }\\frac{3\\pi}{2} \\\\\n",
    "    \\omega t = \\frac{3\\pi}{2} \\\\\n",
    "    t = \\frac{3\\pi}{2\\omega} = \\frac{3\\pi}{2(6\\pi s^{-1})} = \\fbox{$ \\frac{1}{4}s $}\n",
    "    $$"
   ]
  },
  {
   "cell_type": "markdown",
   "metadata": {},
   "source": [
    "34. Let $T = 8s$, $A = 12$cm, and $x(t) = 0$, find:\n",
    "    $$\n",
    "    \\omega = \\frac{2\\pi}{T} = \\frac{2\\pi}{8\\text{s}} = \\frac{\\pi}{4} \\text{rad/s} \\\\\n",
    "    x_0 = A\\cos(\\delta) \\Rightarrow \\delta = \\cos^{-1}\\left(\\frac{x_0}{A}\\right) = \\cos^{-1}\\left(\\frac{0}{A}\\right) = \\frac{\\pi}{2} \\\\\n",
    "    x(t) = (12\\text{cm})\\cos\\left( \\frac{\\pi}{4\\text{s}}t + \\frac{\\pi}{2} \\right) \\\\ \n",
    "    x(x_f - x_i) = \\left| (12\\text{cm})\\cos\\left( \\frac{\\pi}{4\\text{s}}t_f + \\frac{\\pi}{2} \\right) - (12\\text{cm})\\cos\\left( \\frac{\\pi}{4\\text{s}}t_i + \\frac{\\pi}{2} \\right)\\right|\n",
    "    $$\n",
    "    a) $t=0$s to $t=2$s\n",
    "    $$\n",
    "    x(2\\text{s} - 0\\text{s}) = \\left| (12\\text{cm})\\cos\\left( \\frac{\\pi}{4\\text{s}}2\\text{s} + \\frac{\\pi}{2} \\right) - (12\\text{cm})\\cos\\left( \\frac{\\pi}{4\\text{s}}0\\text{s} + \\frac{\\pi}{2} \\right)\\right| \\\\ \n",
    "    x(2\\text{s} - 0\\text{s}) = \\left| -12\\text{cm} - 0\\text{cm} \\right| = \\fbox{$ 12 $cm}\n",
    "    $$\n",
    "    b) $t=2$s to $t=4$s\n",
    "    $$\n",
    "    x(4\\text{s} - 2\\text{s}) = \\left| (12\\text{cm})\\cos\\left( \\frac{\\pi}{4\\text{s}}4\\text{s} + \\frac{\\pi}{2} \\right) - (12\\text{cm})\\cos\\left( \\frac{\\pi}{4\\text{s}}2\\text{s} + \\frac{\\pi}{2} \\right)\\right| \\\\\n",
    "    x(4\\text{s} - 2\\text{s}) = \\left| 0\\text{cm} + 12\\text{cm} \\right| = \\fbox{$ 12 $cm}\n",
    "    $$\n",
    "    c) $t=0$s to $t=1$s\n",
    "    $$\n",
    "    x(1\\text{s} - 0\\text{s}) = \\left| (12\\text{cm})\\cos\\left( \\frac{\\pi}{4\\text{s}}1\\text{s} + \\frac{\\pi}{2} \\right) - (12\\text{cm})\\cos\\left( \\frac{\\pi}{4\\text{s}}0\\text{s} + \\frac{\\pi}{2} \\right)\\right| \\\\\n",
    "    x(1\\text{s} - 0\\text{s}) = \\left| -8.5\\text{cm} - 0\\text{cm} \\right| = \\fbox{$ 8.5 $cm}\n",
    "    $$\n",
    "    d) $t=1$s to $t=2$s\n",
    "    $$\n",
    "    x(2\\text{s} - 1\\text{s}) = \\left| (12\\text{cm})\\cos\\left( \\frac{\\pi}{4\\text{s}}2\\text{s} + \\frac{\\pi}{2} \\right) - (12\\text{cm})\\cos\\left( \\frac{\\pi}{4\\text{s}}1\\text{s} + \\frac{\\pi}{2} \\right)\\right| \\\\\n",
    "    x(2\\text{s} - 1\\text{s}) = \\left| -12\\text{cm} - + 8.5\\text{cm} \\right| = \\fbox{$ 3.5 $cm}\n",
    "    $$"
   ]
  },
  {
   "cell_type": "markdown",
   "metadata": {},
   "source": [
    "37. $x = 2.5\\cos(\\pi t)$, find:  \n",
    "    a)$v_{max}$ and $a_{max}$:\n",
    "    $$\n",
    "    v_{max} = A\\omega = (2.5\\text{m})(\\pi \\text{s}^-1) = \\fbox{$2.5\\pi$ m/s} \\\\\n",
    "    a_{max} = A\\omega^2 = (2.5\\text{m})(\\pi \\text{s}^-1)^2 = \\fbox{$2.5\\pi^2$ m/s$^2$}\n",
    "    $$\n",
    "    b) Speed and Acceleration at $x=1.5$m:\n",
    "    $$\n",
    "    1.5 = 2.5\\cos(\\pi t) \\\\\n",
    "    \\cos(\\pi t) = 0.6 \\\\\n",
    "    \\pi t = 0.9273 \\\\\n",
    "    t = 0.2952\\text{s} \\\\\n",
    "    |v(0.2952)| = -2.5\\pi \\sin(\\pi(0.2952) = \\fbox{$6.28$ m/s} \\\\\n",
    "    a(1.5) = -\\pi^2(1.5) = \\fbox{$-1.5\\pi^2$ m/s$^2$} \\approx -14.8 \\text{m/s}^2\n",
    "    $$"
   ]
  },
  {
   "cell_type": "markdown",
   "metadata": {},
   "source": [
    "40. Let $r = 15$cm and $T = 3$s, find:\n",
    "    a) Speed:\n",
    "    $$\n",
    "    v = \\frac{2\\pi r}{T} = \\frac{2\\pi 15}{3} = \\fbox{$10\\pi$ cm/s}\n",
    "    $$\n",
    "    b) Angular speed:\n",
    "    $$\n",
    "    \\omega = \\frac{2\\pi}{T} = \\frac{2\\pi}{3} = \\fbox{$\\frac{2\\pi}{3}$ rad/s}\n",
    "    $$\n",
    "    c) Equation for x(t):\n",
    "    $$\n",
    "    -15 = 15\\cos(\\delta) \\Rightarrow \\cos(\\delta) = -1 \\Rightarrow \\delta = \\pi \\\\ \n",
    "    x(t) = \\fbox{$15\\cos\\left(\\frac{2\\pi}{3}t + \\pi \\right)$ cm}\n",
    "    $$"
   ]
  },
  {
   "cell_type": "markdown",
   "metadata": {},
   "source": [
    "41. Let $A=10$cm, $k=4.5$kN/m, find the Energy:\n",
    "$$\n",
    "E = \\frac{1}{2} kA^2 = \\frac{1}{2} (4500)(0.1)^2 = \\fbox{$22.5$ J}\n",
    "$$"
   ]
  },
  {
   "cell_type": "markdown",
   "metadata": {},
   "source": [
    "43. Let $m = 1.5$kg, $k=500$N/m, $v_{max} = 70$cm/s, find:\n",
    "    a) Total Energy:\n",
    "    $$\n",
    "    E = K_{max} = \\frac{1}{2}(1.5)(0.7)^2 = \\fbox{$0.368$ J}\n",
    "    $$"
   ]
  },
  {
   "cell_type": "markdown",
   "metadata": {},
   "source": [
    "49."
   ]
  },
  {
   "cell_type": "markdown",
   "metadata": {},
   "source": [
    "52."
   ]
  },
  {
   "cell_type": "markdown",
   "metadata": {},
   "source": [
    "54."
   ]
  },
  {
   "cell_type": "markdown",
   "metadata": {},
   "source": [
    "60."
   ]
  },
  {
   "cell_type": "markdown",
   "metadata": {},
   "source": [
    "63."
   ]
  },
  {
   "cell_type": "markdown",
   "metadata": {},
   "source": [
    "85."
   ]
  },
  {
   "cell_type": "markdown",
   "metadata": {},
   "source": [
    "## CH15"
   ]
  },
  {
   "cell_type": "markdown",
   "metadata": {},
   "source": [
    "2. If $\\mu$ decreases along the path of a pulse, then the pulse would $\\fbox{speed up.}$"
   ]
  },
  {
   "cell_type": "markdown",
   "metadata": {},
   "source": [
    "8. If a sound wave leaves the water, $\\fbox{the frequency would not change, but the wavelength would be shorter.}$"
   ]
  },
  {
   "cell_type": "markdown",
   "metadata": {},
   "source": [
    "15. To increase the sound intensity by 20 dB, $\\tfrac{I_2}{I_1} = \\fbox{100.}$"
   ]
  },
  {
   "cell_type": "markdown",
   "metadata": {},
   "source": [
    "16. To decrease the sound intensity by 20 dB, $\\tfrac{r_2}{r_1} = \\fbox{10.}$"
   ]
  },
  {
   "cell_type": "markdown",
   "metadata": {},
   "source": [
    "32. Let $L=7$m, $m = 0.1$kg, and $F_T = 900$N, find speed of a wave pulse:\n",
    "$$\n",
    "\\mu = \\frac{m}{L}, v = \\sqrt{\\frac{F_T}{\\mu}} \\\\ \n",
    "v = \\sqrt{\\frac{F_T}{m/L}} = \\sqrt{\\frac{900}{0.1/7}} = \\sqrt{63000}\\text{m/s} \\approx \\fbox{$ 251 $ m/s}\n",
    "$$"
   ]
  },
  {
   "cell_type": "markdown",
   "metadata": {},
   "source": [
    "37. Show that $y = A\\sin(kx)\\cos(\\omega t)$ satisfies the wave equation:\n",
    "$$\n",
    "\\frac{\\partial^2}{\\partial x^2}\\left(A\\sin(kx)\\cos(\\omega t)\\right) = -Ak^2\\sin(kx)\\cos(\\omega t) \\\\\n",
    "\\frac{\\partial^2}{\\partial t^2}\\left(A\\sin(kx)\\cos(\\omega t)\\right) = -A\\omega^2\\sin(kx)\\cos(\\omega t) \\\\\n",
    "\\frac{\\frac{\\partial^2y}{\\partial x^2}}{\\frac{\\partial^2y}{\\partial t^2}} = \\frac{-Ak^2\\sin(kx)\\cos(\\omega t)}{-A\\omega^2\\sin(kx)\\cos(\\omega t)} = \\frac{k^2}{\\omega^2} = \\fbox{$\\frac{1}{v^2}$}\n",
    "$$"
   ]
  },
  {
   "cell_type": "markdown",
   "metadata": {},
   "source": [
    "39. Let $\\mu = 0.05$kg/m, $F_T = 80$N, $f=10$Hz, and $A = 0.05$m, find the power:\n",
    "$$\n",
    "\\omega = 2\\pi f = 20\\pi \\\\\n",
    "v = \\sqrt{\\frac{F_T}{\\mu}} = \\sqrt{\\frac{80}{0.05}} = 40\\text{ m/s} \\\\\n",
    "P_{avg} = \\frac{1}{2}\\mu v \\omega^2 A^2 = \\frac{1}{2} (0.05)(40)(20\\pi)^2(0.05)^2 = \\pi^2 \\approx \\fbox{$9.9$W}\n",
    "$$"
   ]
  },
  {
   "cell_type": "markdown",
   "metadata": {},
   "source": [
    "41. $y(x,t) = 0.001\\sin(62.8x + 314t)$\n",
    "    a) Find speed and direction\n",
    "    $$\n",
    "    v = \\frac{\\omega}{k} = \\frac{314}{62.8} = \\fbox{$5$ m/s in the -x direction.}\n",
    "    $$\n",
    "    b) Wavelength:\n",
    "    $$\n",
    "    \\lambda = \\frac{2\\pi}{k} = \\frac{2\\pi}{62.8} = \\fbox{$0.1$ m}\n",
    "    $$\n",
    "    Frequency:\n",
    "    $$\n",
    "    f = \\frac{v}{\\lambda} = \\frac{5}{0.1} = \\fbox{$50$Hz}\n",
    "    $$\n",
    "    Period:\n",
    "    $$\n",
    "    T = \\frac{1}{f} = \\frac{1}{50} = \\fbox{$ 0.02 $s}\n",
    "    $$\n",
    "    c) Maximum Speed:\n",
    "    $$\n",
    "    v_{max} = A\\omega = (0.001)(314) = \\fbox{$0.314$ m/s}\n",
    "    $$"
   ]
  },
  {
   "cell_type": "markdown",
   "metadata": {},
   "source": [
    "43. Let $f=200$Hz, $A=0.012$m, $L=40$m, $m=0.12$kg, and $F_T = 50$N, find:  \n",
    "    a) Average Energy  on a 20m segment:\n",
    "    $$\n",
    "    \\omega = 2\\pi(200) = 400\\pi \\text{rad/s} \\\\\n",
    "    \\mu = \\frac{0.12}{40} = 0.003 \\text{kg/m} \\\\\n",
    "    v = \\sqrt{\\frac{50}{0.003}} = 130 \\text{m/s} \\\\\n",
    "    P_{avg} = \\frac{1}{2}(0.003)(130)(400\\pi)^2(0.012)^2 = 44.34 \\text{W} \\\\\n",
    "    t = \\frac{20}{130} = 0.1538 \\text{s} \\\\\n",
    "    E_{avg} = (44.34)(0.1538) = \\fbox{$6.8$ J}\n",
    "    $$\n",
    "    b) Power:\n",
    "    $$\n",
    "    P_{avg} = \\frac{1}{2}(0.003)(130)(400\\pi)^2(0.012)^2 = \\fbox{$44.34$ W}\n",
    "    $$"
   ]
  },
  {
   "cell_type": "markdown",
   "metadata": {},
   "source": [
    "48. Let $f = 262$Hz and $v = 343$m/s, find:\n",
    "    a) $\\lambda$:\n",
    "$$\n",
    "\\lambda = \\frac{v}{f} = \\frac{343}{262} = \\fbox{$1.31$ m}\n",
    "$$\n",
    "    b) $\\lambda$ of $2f$:\n",
    "    $$\n",
    "    \\lambda = \\frac{v}{2f} = \\frac{343}{2(262)} = \\fbox{$0.655$ m}\n",
    "    $$"
   ]
  },
  {
   "cell_type": "markdown",
   "metadata": {},
   "source": [
    "57."
   ]
  },
  {
   "cell_type": "markdown",
   "metadata": {},
   "source": [
    "58."
   ]
  },
  {
   "cell_type": "markdown",
   "metadata": {},
   "source": [
    "62."
   ]
  },
  {
   "cell_type": "markdown",
   "metadata": {},
   "source": [
    "63."
   ]
  },
  {
   "cell_type": "markdown",
   "metadata": {},
   "source": [
    "72."
   ]
  },
  {
   "cell_type": "markdown",
   "metadata": {},
   "source": [
    "74."
   ]
  },
  {
   "cell_type": "markdown",
   "metadata": {},
   "source": [
    "75."
   ]
  },
  {
   "cell_type": "markdown",
   "metadata": {},
   "source": [
    "85."
   ]
  },
  {
   "cell_type": "markdown",
   "metadata": {},
   "source": [
    "## CH16"
   ]
  },
  {
   "cell_type": "markdown",
   "metadata": {},
   "source": [
    "3."
   ]
  },
  {
   "cell_type": "markdown",
   "metadata": {},
   "source": [
    "9."
   ]
  },
  {
   "cell_type": "markdown",
   "metadata": {},
   "source": [
    "11."
   ]
  },
  {
   "cell_type": "markdown",
   "metadata": {},
   "source": [
    "25."
   ]
  },
  {
   "cell_type": "markdown",
   "metadata": {},
   "source": [
    "31."
   ]
  },
  {
   "cell_type": "markdown",
   "metadata": {},
   "source": [
    "33."
   ]
  },
  {
   "cell_type": "markdown",
   "metadata": {},
   "source": [
    "34."
   ]
  },
  {
   "cell_type": "markdown",
   "metadata": {},
   "source": [
    "42."
   ]
  },
  {
   "cell_type": "markdown",
   "metadata": {},
   "source": [
    "45."
   ]
  },
  {
   "cell_type": "markdown",
   "metadata": {},
   "source": [
    "46."
   ]
  },
  {
   "cell_type": "markdown",
   "metadata": {},
   "source": [
    "49."
   ]
  },
  {
   "cell_type": "markdown",
   "metadata": {},
   "source": [
    "50."
   ]
  },
  {
   "cell_type": "markdown",
   "metadata": {},
   "source": [
    "58."
   ]
  },
  {
   "cell_type": "markdown",
   "metadata": {},
   "source": [
    "59."
   ]
  }
 ],
 "metadata": {
  "kernelspec": {
   "display_name": "Python 3",
   "language": "python",
   "name": "python3"
  },
  "language_info": {
   "codemirror_mode": {
    "name": "ipython",
    "version": 3
   },
   "file_extension": ".py",
   "mimetype": "text/x-python",
   "name": "python",
   "nbconvert_exporter": "python",
   "pygments_lexer": "ipython3",
   "version": "3.8.4"
  }
 },
 "nbformat": 4,
 "nbformat_minor": 4
}
