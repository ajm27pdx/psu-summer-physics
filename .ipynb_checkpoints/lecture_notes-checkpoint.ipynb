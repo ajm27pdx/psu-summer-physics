{
 "cells": [
  {
   "cell_type": "markdown",
   "metadata": {},
   "source": [
    "### Test"
   ]
  },
  {
   "cell_type": "code",
   "execution_count": 2,
   "metadata": {},
   "outputs": [
    {
     "name": "stdout",
     "output_type": "stream",
     "text": [
      "8\n",
      "201.06192982974676\n"
     ]
    }
   ],
   "source": [
    "import math\n",
    "\n",
    "r = int(input())\n",
    "m = 8\n",
    "v = 8\n",
    "\n",
    "print(math.pi * r**2)"
   ]
  },
  {
   "cell_type": "code",
   "execution_count": 3,
   "metadata": {},
   "outputs": [
    {
     "data": {
      "application/vnd.jupyter.widget-view+json": {
       "model_id": "71fd2dde806a444687b334abfde4691b",
       "version_major": 2,
       "version_minor": 0
      },
      "text/plain": [
       "interactive(children=(IntSlider(value=5, description='len', max=10), IntSlider(value=87, description='mass'), …"
      ]
     },
     "metadata": {},
     "output_type": "display_data"
    }
   ],
   "source": [
    "from __future__ import print_function\n",
    "from ipywidgets import interact, interactive, fixed, interact_manual\n",
    "import ipywidgets as widgets\n",
    "\n",
    "def wave_motion(len, mass, time):\n",
    "    mass = mass / 1000\n",
    "    if(time == 0):\n",
    "        time = 1\n",
    "    time = time / 1000\n",
    "    return mass * len / (time**2)\n",
    "\n",
    "mass_slider=widgets.IntSlider(min=0, max=100, step=1, value=87)\n",
    "time_slider=widgets.IntSlider(min=0, max=100, step=1, value=94)\n",
    "len_slider=widgets.IntSlider(min=0, max=10, step=1, value=5)\n",
    "interact(wave_motion, mass=mass_slider, time=time_slider, len=len_slider);\n"
   ]
  },
  {
   "cell_type": "code",
   "execution_count": 26,
   "metadata": {},
   "outputs": [
    {
     "name": "stdout",
     "output_type": "stream",
     "text": [
      "Enough!\n"
     ]
    }
   ],
   "source": [
    "rate = 13e12\n",
    "time = 3 * 24 + 5\n",
    "total = rate * time\n",
    "goal = 1e15\n",
    "if(goal - total < 0):\n",
    " print(\"Enough!\")\n",
    "else:\n",
    " print(\"Not enough!\")"
   ]
  },
  {
   "cell_type": "code",
   "execution_count": 14,
   "metadata": {},
   "outputs": [
    {
     "name": "stdout",
     "output_type": "stream",
     "text": [
      "770000000.0\n"
     ]
    }
   ],
   "source": [
    "print(total)"
   ]
  },
  {
   "cell_type": "code",
   "execution_count": null,
   "metadata": {},
   "outputs": [],
   "source": []
  }
 ],
 "metadata": {
  "kernelspec": {
   "display_name": "Python 3",
   "language": "python",
   "name": "python3"
  },
  "language_info": {
   "codemirror_mode": {
    "name": "ipython",
    "version": 3
   },
   "file_extension": ".py",
   "mimetype": "text/x-python",
   "name": "python",
   "nbconvert_exporter": "python",
   "pygments_lexer": "ipython3",
   "version": "3.8.4"
  },
  "widgets": {
   "application/vnd.jupyter.widget-state+json": {
    "state": {
     "09030ec0e2794ab98961b4d55831b0b1": {
      "model_module": "@jupyter-widgets/base",
      "model_module_version": "1.2.0",
      "model_name": "LayoutModel",
      "state": {}
     },
     "432bdb4ecfa349f8b2a4a21d09bf75cc": {
      "model_module": "@jupyter-widgets/controls",
      "model_module_version": "1.5.0",
      "model_name": "IntSliderModel",
      "state": {
       "description": "len",
       "layout": "IPY_MODEL_fbe079ce86a84343b8cb62da56534581",
       "max": 10,
       "style": "IPY_MODEL_8493298fb4824aed91d1f38642ea3a75",
       "value": 5
      }
     },
     "504c0c1572044d73b7a5267f9190e67b": {
      "model_module": "@jupyter-widgets/base",
      "model_module_version": "1.2.0",
      "model_name": "LayoutModel",
      "state": {}
     },
     "5a045fd3aad04574804ce42fcd959083": {
      "model_module": "@jupyter-widgets/controls",
      "model_module_version": "1.5.0",
      "model_name": "IntSliderModel",
      "state": {
       "description": "time",
       "layout": "IPY_MODEL_504c0c1572044d73b7a5267f9190e67b",
       "style": "IPY_MODEL_ff24a025621b494daae310701ae4244b",
       "value": 94
      }
     },
     "5b185bfd7c00464c9132686d9028b437": {
      "model_module": "@jupyter-widgets/base",
      "model_module_version": "1.2.0",
      "model_name": "LayoutModel",
      "state": {}
     },
     "5eac7a8ea3974289b33f5e0e048ed922": {
      "model_module": "@jupyter-widgets/controls",
      "model_module_version": "1.5.0",
      "model_name": "SliderStyleModel",
      "state": {
       "description_width": ""
      }
     },
     "71fd2dde806a444687b334abfde4691b": {
      "model_module": "@jupyter-widgets/controls",
      "model_module_version": "1.5.0",
      "model_name": "VBoxModel",
      "state": {
       "_dom_classes": [
        "widget-interact"
       ],
       "children": [
        "IPY_MODEL_ccf60b33f25540b19dfadfc8b6164e61",
        "IPY_MODEL_affa27b2112a40c586b353a3c0d5e0ef",
        "IPY_MODEL_ff6ec675f19a4de29df7b3b8d8a1bd5e",
        "IPY_MODEL_f499f70928a84709a447e3c74811e115"
       ],
       "layout": "IPY_MODEL_e207eb3581094f4596e81652ab3c3f70"
      }
     },
     "784c17c6a8564e93a99331884f80f42d": {
      "model_module": "@jupyter-widgets/base",
      "model_module_version": "1.2.0",
      "model_name": "LayoutModel",
      "state": {}
     },
     "8493298fb4824aed91d1f38642ea3a75": {
      "model_module": "@jupyter-widgets/controls",
      "model_module_version": "1.5.0",
      "model_name": "SliderStyleModel",
      "state": {
       "description_width": ""
      }
     },
     "97f1c702a98a47158a18a8def3e64d9e": {
      "model_module": "@jupyter-widgets/base",
      "model_module_version": "1.2.0",
      "model_name": "LayoutModel",
      "state": {}
     },
     "9addbce2559243ba852e265113d2d8f0": {
      "model_module": "@jupyter-widgets/controls",
      "model_module_version": "1.5.0",
      "model_name": "SliderStyleModel",
      "state": {
       "description_width": ""
      }
     },
     "affa27b2112a40c586b353a3c0d5e0ef": {
      "model_module": "@jupyter-widgets/controls",
      "model_module_version": "1.5.0",
      "model_name": "IntSliderModel",
      "state": {
       "description": "mass",
       "layout": "IPY_MODEL_97f1c702a98a47158a18a8def3e64d9e",
       "style": "IPY_MODEL_9addbce2559243ba852e265113d2d8f0",
       "value": 22
      }
     },
     "b7ca01efb0d94db19b9d2f7f17bc242b": {
      "model_module": "@jupyter-widgets/controls",
      "model_module_version": "1.5.0",
      "model_name": "SliderStyleModel",
      "state": {
       "description_width": ""
      }
     },
     "bcae73468eff433a94377d910273d205": {
      "model_module": "@jupyter-widgets/base",
      "model_module_version": "1.2.0",
      "model_name": "LayoutModel",
      "state": {}
     },
     "bd81ca8502dd4f108a66f6468d1c08df": {
      "model_module": "@jupyter-widgets/base",
      "model_module_version": "1.2.0",
      "model_name": "LayoutModel",
      "state": {}
     },
     "ccf60b33f25540b19dfadfc8b6164e61": {
      "model_module": "@jupyter-widgets/controls",
      "model_module_version": "1.5.0",
      "model_name": "IntSliderModel",
      "state": {
       "description": "len",
       "layout": "IPY_MODEL_5b185bfd7c00464c9132686d9028b437",
       "max": 10,
       "style": "IPY_MODEL_b7ca01efb0d94db19b9d2f7f17bc242b",
       "value": 4
      }
     },
     "cdf2075c26dd47d990dc6004c097533e": {
      "model_module": "@jupyter-widgets/base",
      "model_module_version": "1.2.0",
      "model_name": "LayoutModel",
      "state": {}
     },
     "d2b4d9e8fb0a4f518ff91c9be4131625": {
      "model_module": "@jupyter-widgets/controls",
      "model_module_version": "1.5.0",
      "model_name": "SliderStyleModel",
      "state": {
       "description_width": ""
      }
     },
     "d5dc4bcababa44a3821656a5af123df0": {
      "model_module": "@jupyter-widgets/controls",
      "model_module_version": "1.5.0",
      "model_name": "VBoxModel",
      "state": {
       "_dom_classes": [
        "widget-interact"
       ],
       "children": [
        "IPY_MODEL_432bdb4ecfa349f8b2a4a21d09bf75cc",
        "IPY_MODEL_d9b1f9c8781b43ce93a3f8a9e84f6ded",
        "IPY_MODEL_5a045fd3aad04574804ce42fcd959083",
        "IPY_MODEL_e9320f255f874e6da131b7ae37c2dff1"
       ],
       "layout": "IPY_MODEL_cdf2075c26dd47d990dc6004c097533e"
      }
     },
     "d9b1f9c8781b43ce93a3f8a9e84f6ded": {
      "model_module": "@jupyter-widgets/controls",
      "model_module_version": "1.5.0",
      "model_name": "IntSliderModel",
      "state": {
       "description": "mass",
       "layout": "IPY_MODEL_784c17c6a8564e93a99331884f80f42d",
       "style": "IPY_MODEL_d2b4d9e8fb0a4f518ff91c9be4131625",
       "value": 87
      }
     },
     "e207eb3581094f4596e81652ab3c3f70": {
      "model_module": "@jupyter-widgets/base",
      "model_module_version": "1.2.0",
      "model_name": "LayoutModel",
      "state": {}
     },
     "e9320f255f874e6da131b7ae37c2dff1": {
      "model_module": "@jupyter-widgets/output",
      "model_module_version": "1.0.0",
      "model_name": "OutputModel",
      "state": {
       "layout": "IPY_MODEL_09030ec0e2794ab98961b4d55831b0b1",
       "outputs": [
        {
         "data": {
          "text/plain": "49.23042100497962"
         },
         "metadata": {},
         "output_type": "display_data"
        }
       ]
      }
     },
     "f499f70928a84709a447e3c74811e115": {
      "model_module": "@jupyter-widgets/output",
      "model_module_version": "1.0.0",
      "model_name": "OutputModel",
      "state": {
       "layout": "IPY_MODEL_bd81ca8502dd4f108a66f6468d1c08df",
       "outputs": [
        {
         "data": {
          "text/plain": "9.959257582616567"
         },
         "metadata": {},
         "output_type": "display_data"
        }
       ]
      }
     },
     "fbe079ce86a84343b8cb62da56534581": {
      "model_module": "@jupyter-widgets/base",
      "model_module_version": "1.2.0",
      "model_name": "LayoutModel",
      "state": {}
     },
     "ff24a025621b494daae310701ae4244b": {
      "model_module": "@jupyter-widgets/controls",
      "model_module_version": "1.5.0",
      "model_name": "SliderStyleModel",
      "state": {
       "description_width": ""
      }
     },
     "ff6ec675f19a4de29df7b3b8d8a1bd5e": {
      "model_module": "@jupyter-widgets/controls",
      "model_module_version": "1.5.0",
      "model_name": "IntSliderModel",
      "state": {
       "description": "time",
       "layout": "IPY_MODEL_bcae73468eff433a94377d910273d205",
       "style": "IPY_MODEL_5eac7a8ea3974289b33f5e0e048ed922",
       "value": 94
      }
     }
    },
    "version_major": 2,
    "version_minor": 0
   }
  }
 },
 "nbformat": 4,
 "nbformat_minor": 4
}
